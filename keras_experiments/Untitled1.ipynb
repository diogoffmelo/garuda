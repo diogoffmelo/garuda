{
 "cells": [
  {
   "cell_type": "code",
   "execution_count": 1,
   "metadata": {},
   "outputs": [
    {
     "name": "stderr",
     "output_type": "stream",
     "text": [
      "/home/diogo/.virtualenvs/keras/lib/python3.5/site-packages/h5py/__init__.py:36: FutureWarning: Conversion of the second argument of issubdtype from `float` to `np.floating` is deprecated. In future, it will be treated as `np.float64 == np.dtype(float).type`.\n",
      "  from ._conv import register_converters as _register_converters\n"
     ]
    }
   ],
   "source": [
    "import pickle\n",
    "import matplotlib.pyplot as plt\n",
    "import seaborn as sbn\n",
    "import tensorflow as tf\n",
    "import numpy as np"
   ]
  },
  {
   "cell_type": "code",
   "execution_count": 24,
   "metadata": {},
   "outputs": [],
   "source": [
    "with open('../generate/data.pkl', 'rb') as f:\n",
    "    Dset = pickle.load(f)\n",
    "\n"
   ]
  },
  {
   "cell_type": "code",
   "execution_count": 26,
   "metadata": {},
   "outputs": [
    {
     "name": "stdout",
     "output_type": "stream",
     "text": [
      "(12500, 50, 200, 3) (12500, 5, 36)\n"
     ]
    }
   ],
   "source": [
    "Xtrain = Dset['Xtrain']\n",
    "Xtest = Dset['Xtest']\n",
    "Ytrain = Dset['Ytrain']\n",
    "Ytest = Dset['Ytest']\n",
    "\n",
    "_, H, W, D = Xtrain.shape\n",
    "_, I, C = Ytrain.shape\n",
    "\n",
    "print(Xtrain.shape, Ytrain.shape)"
   ]
  },
  {
   "cell_type": "code",
   "execution_count": 138,
   "metadata": {},
   "outputs": [],
   "source": [
    "tf.reset_default_graph()\n",
    "\n",
    "\n",
    "tfxin = tf.layers.Input(shape=[H, W, D], dtype=np.float32)\n",
    "tfyin = tf.layers.Input(shape=[I, C], dtype=np.int8)\n",
    "tfistrain = tf.placeholder(shape=[], dtype=np.bool)\n",
    "\n",
    "tfconv = tf.layers.conv2d(tfxin, 6, 5, strides=(1, 1), padding='same', activation=tf.nn.relu, use_bias=True)\n",
    "\n",
    "tfconv = tf.layers.conv2d(tfconv, 12, 5, strides=(2, 2), padding='same', activation=tf.nn.relu, use_bias=True)\n",
    "\n",
    "tfconv = tf.layers.conv2d(tfconv, 24, 4, strides=(2, 2), padding='same', activation=tf.nn.relu, use_bias=True)\n",
    "\n",
    "\n",
    "tfxflat = tf.layers.flatten(tfconv)\n",
    "\n",
    "tfxflat = tf.layers.dropout(tfxflat, rate=0.5, training=tfistrain)\n",
    "\n",
    "tfxflat = tf.layers.dense(tfxflat, 1000, activation=tf.nn.relu, use_bias=True)\n",
    "\n",
    "tfxflat = tf.layers.dropout(tfxflat, rate=0.5, training=tfistrain)\n",
    "\n",
    "\n",
    "tfylogit = [tf.layers.dense(tfxflat, C, activation=None, use_bias=True) for _ in range(5)]\n",
    "tfypred = list(map(tf.nn.softmax, tfylogit))\n",
    "\n",
    "tfaccuracy = []\n",
    "tfxentropy = []\n",
    "tfnacc = []\n",
    "tfcorrectpreds = []\n",
    "for i in range(5):\n",
    "    tfytrue = tfyin[:, i, :]\n",
    "\n",
    "    tfcorrect = tf.equal(tf.argmax(tfypred[i], 1), tf.argmax(tfytrue, 1))\n",
    "    tfcorrectpreds.append(tfcorrect)\n",
    "    \n",
    "    tfnacc.append(tf.reduce_sum(tf.cast(tfcorrect, tf.int8)))\n",
    "    tfaccuracy.append(tf.reduce_mean(tf.cast(tfcorrect, tf.float32)))\n",
    "    tfxentropy.append(tf.nn.softmax_cross_entropy_with_logits_v2(logits=tfylogit[i], labels=tfytrue))\n",
    "\n",
    "\n",
    "    \n",
    "tfpacc = tf.reduce_prod(tfaccuracy)\n",
    "\n",
    "tfwacc = tf.reduce_mean(tf.cast(tf.reduce_all(tfcorrectpreds, axis=0), tf.float32))\n",
    "\n",
    "\n",
    "tfloss = sum(list(map(tf.reduce_mean, tfxentropy)))\n",
    "train = tf.train.AdamOptimizer(0.001).minimize(tfloss)\n",
    "\n",
    "\n",
    "sess = tf.Session()\n",
    "with sess.as_default():\n",
    "    init = tf.global_variables_initializer()\n",
    "    sess.run(init)"
   ]
  },
  {
   "cell_type": "code",
   "execution_count": 143,
   "metadata": {},
   "outputs": [
    {
     "name": "stdout",
     "output_type": "stream",
     "text": [
      "[0.994, 0.924, 0.838, 0.836, 0.886] 1.8035128 0.5700886 0.658\n",
      "[0.997, 0.931, 0.855, 0.837, 0.885] 1.6954831 0.5878678 0.667\n",
      "[0.996, 0.931, 0.853, 0.846, 0.882] 1.6658592 0.590197 0.667\n",
      "[0.995, 0.924, 0.856, 0.853, 0.888] 1.5796789 0.59611607 0.686\n",
      "[0.994, 0.94, 0.857, 0.856, 0.893] 1.5289131 0.612097 0.699\n"
     ]
    }
   ],
   "source": [
    "\n",
    "for _ in range(5):\n",
    "    with sess.as_default():\n",
    "        for _ in range(30):\n",
    "            ids = np.random.choice(Xtrain.shape[0], 200)\n",
    "            _, acc, loss = sess.run([train, tfaccuracy, tfloss], feed_dict={tfxin: Xtrain[ids], tfyin: Ytrain[ids], tfistrain: True})\n",
    "            #print(acc, loss)\n",
    "\n",
    "        acc, loss, p, w = sess.run([tfaccuracy, tfloss, tfpacc, tfwacc], feed_dict={tfxin: Xtest[:1000], tfyin: Ytest[:1000], tfistrain: False})\n",
    "        print(acc, loss, p, w)"
   ]
  },
  {
   "cell_type": "code",
   "execution_count": 36,
   "metadata": {},
   "outputs": [
    {
     "data": {
      "text/plain": [
       "(1, 5, 36)"
      ]
     },
     "execution_count": 36,
     "metadata": {},
     "output_type": "execute_result"
    }
   ],
   "source": [
    "Ytrain[[1]].shape"
   ]
  },
  {
   "cell_type": "code",
   "execution_count": 83,
   "metadata": {},
   "outputs": [
    {
     "data": {
      "text/plain": [
       "TensorShape([Dimension(None), Dimension(25), Dimension(100), Dimension(6)])"
      ]
     },
     "execution_count": 83,
     "metadata": {},
     "output_type": "execute_result"
    }
   ],
   "source": [
    "tfconv2.shape"
   ]
  },
  {
   "cell_type": "code",
   "execution_count": 84,
   "metadata": {},
   "outputs": [
    {
     "data": {
      "text/plain": [
       "TensorShape([Dimension(None), Dimension(15000)])"
      ]
     },
     "execution_count": 84,
     "metadata": {},
     "output_type": "execute_result"
    }
   ],
   "source": [
    "tfxflat.shape"
   ]
  },
  {
   "cell_type": "code",
   "execution_count": 136,
   "metadata": {},
   "outputs": [
    {
     "data": {
      "text/plain": [
       "[<matplotlib.lines.Line2D at 0x7f67a422c278>]"
      ]
     },
     "execution_count": 136,
     "metadata": {},
     "output_type": "execute_result"
    },
    {
     "data": {
      "image/png": "[encoded data removed]",
      "text/plain": [
       "<Figure size 432x288 with 1 Axes>"
      ]
     },
     "metadata": {},
     "output_type": "display_data"
    }
   ],
   "source": [
    "ffx = np.arange(20)\n",
    "ffy = np.ones([20]) - 0.04 * (np.random.random([20]) - 0.5)+ ((ffx-10)*(ffx-10))/(15*15*3)\n",
    "\n",
    "plt.plot(ffx, ffy, 'o')"
   ]
  },
  {
   "cell_type": "code",
   "execution_count": 137,
   "metadata": {},
   "outputs": [
    {
     "data": {
      "text/plain": [
       "[<matplotlib.lines.Line2D at 0x7f67a4224d68>]"
      ]
     },
     "execution_count": 137,
     "metadata": {},
     "output_type": "execute_result"
    },
    {
     "data": {
      "image/png": "[encoded data removed]",
      "text/plain": [
       "<Figure size 432x288 with 1 Axes>"
      ]
     },
     "metadata": {},
     "output_type": "display_data"
    }
   ],
   "source": [
    "plt.plot(ffx[1:], (ffy[:-1] - ffy[1:])/ffy[:-1], 'o')\n",
    "plt.plot(ffx[1:], np.zeros(ffx[1:].shape), '-r')"
   ]
  },
  {
   "cell_type": "code",
   "execution_count": null,
   "metadata": {},
   "outputs": [],
   "source": []
  }
 ],
 "metadata": {
  "kernelspec": {
   "display_name": "keras",
   "language": "python",
   "name": "keras"
  },
  "language_info": {
   "codemirror_mode": {
    "name": "ipython",
    "version": 3
   },
   "file_extension": ".py",
   "mimetype": "text/x-python",
   "name": "python",
   "nbconvert_exporter": "python",
   "pygments_lexer": "ipython3",
   "version": "3.5.2"
  }
 },
 "nbformat": 4,
 "nbformat_minor": 2
}
